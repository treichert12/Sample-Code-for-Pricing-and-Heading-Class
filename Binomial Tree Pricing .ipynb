{
 "cells": [
  {
   "cell_type": "code",
   "execution_count": 1,
   "id": "9428776e",
   "metadata": {},
   "outputs": [],
   "source": [
    "import math\n",
    "import pandas as pd\n",
    "import numpy as np\n",
    "import scipy.stats as ss\n",
    "\n",
    "import matplotlib.pyplot as plt\n",
    "%matplotlib inline\n",
    "from IPython.display import display\n",
    "import sympy; sympy.init_printing()\n",
    "import yfinance as yf\n",
    "from datetime import datetime\n",
    "\n",
    "from dateutil.relativedelta import relativedelta"
   ]
  },
  {
   "cell_type": "code",
   "execution_count": 2,
   "id": "ca3238d8",
   "metadata": {},
   "outputs": [],
   "source": [
    "S0=84.20    # spot stock price\n",
    "K=85.0     # strike\n",
    "T=.08333333 # maturity \n",
    "r=0.00043       # risk free rate \n",
    "sig=0.3344     # diffusion coefficient or volatility"
   ]
  },
  {
   "cell_type": "code",
   "execution_count": 3,
   "id": "1663204c",
   "metadata": {},
   "outputs": [
    {
     "name": "stdout",
     "output_type": "stream",
     "text": [
      "American BS Tree Price:  2.8737370849199064\n"
     ]
    }
   ],
   "source": [
    "N = 25000              # number of periods or number of time steps  \n",
    "payoff = \"call\"        # payoff \n",
    "\n",
    "dT = float(T) / N                             # Delta t\n",
    "u = np.exp(sig * np.sqrt(dT))                 # up factor\n",
    "d = 1.0 / u                                   # down factor \n",
    "\n",
    "V = np.zeros(N+1)                             # initialize the price vector\n",
    "S_T = np.array( [(S0 * u**j * d**(N - j)) for j in range(N + 1)] )  # price S_T at time T\n",
    "\n",
    "a = np.exp(r * dT)    # risk free compound return\n",
    "p = (a - d)/ (u - d)  # risk neutral up probability\n",
    "q = 1.0 - p           # risk neutral down probability   \n",
    "\n",
    "if payoff ==\"call\":\n",
    "    V[:] = np.maximum(S_T-K, 0.0)\n",
    "elif payoff ==\"put\":\n",
    "    V[:] = np.maximum(K-S_T, 0.0)\n",
    "\n",
    "for i in range(N-1, -1, -1):\n",
    "    V[:-1] = np.exp(-r*dT) * (p * V[1:] + q * V[:-1])    # the price vector is overwritten at each step\n",
    "    S_T = S_T * u                    # it is a tricky way to obtain the price at the previous time step\n",
    "    if payoff==\"call\":\n",
    "        V = np.maximum( V, S_T-K )\n",
    "    elif payoff==\"put\":\n",
    "        V = np.maximum( V, K-S_T )\n",
    "    \n",
    "print(\"American BS Tree Price: \", V[0])"
   ]
  },
  {
   "cell_type": "code",
   "execution_count": 15,
   "id": "b26c7261",
   "metadata": {},
   "outputs": [],
   "source": [
    "def abtp(stock):\n",
    "    # Get end date as November 15, 2021\n",
    "    edate = datetime(2021, 11, 16)\n",
    "\n",
    "    #Start date as 6 months ago from today\n",
    "    sdate = edate + relativedelta(months=-6)\n",
    "\n",
    "    #Change dates to strings\n",
    "    sdate = datetime.strftime(sdate,\"%Y-%m-%d\")\n",
    "    edate = datetime.strftime(edate,\"%Y-%m-%d\")\n",
    "\n",
    "    #get historical data of stock\n",
    "    df = yf.download(stock, start = sdate, end = edate)\n",
    "    \n",
    "    #Calculate Log Return for volatility\n",
    "    log_returns = np.log(df['Close']/df['Close'].shift(1))\n",
    "    \n",
    "    #Calculate volatility\n",
    "    sigma = log_returns.std() * math.sqrt(252)#len(df['Close'])\n",
    "\n",
    "    #Find Risk-Free Rate 12 week t bill \n",
    "    r = yf.download('^IRX', start = edate, end = edate)\n",
    "    r = r['Close'][0]/100\n",
    "\n",
    "    #Find days until option maturity date\n",
    "    tick = yf.Ticker(stock)\n",
    "    print(tick.options[3])\n",
    "    #t = datetime.strptime(tick.options[3],\"%Y-%m-%d\") - datetime.strptime(edate,\"%Y-%m-%d\")\n",
    "    t = 27/252\n",
    "\n",
    "    #strikes\n",
    "    k = [295, 300, 305, 310, 315, 320, 325, 330, 335, 340]\n",
    "\n",
    "    #stock price\n",
    "    s = df['Close'][-1]\n",
    "\n",
    "    print(s,k,sigma,r,t)\n",
    "    \n",
    "    prices = []\n",
    "    \n",
    "    for x in range(0,len(k)):\n",
    "        N = 25000              # number of periods or number of time steps  \n",
    "        payoff = \"put\"        # payoff \n",
    "\n",
    "        dT = float(t) / N                             # Delta t\n",
    "        u = np.exp(sigma * np.sqrt(dT))                 # up factor\n",
    "        d = 1.0 / u                                   # down factor \n",
    "\n",
    "        V = np.zeros(N+1)                             # initialize the price vector\n",
    "        S_T = np.array( [(s * u**j * d**(N - j)) for j in range(N + 1)] )  # price S_T at time T\n",
    "\n",
    "        a = np.exp(r * dT)    # risk free compound return\n",
    "        p = (a - d)/ (u - d)  # risk neutral up probability\n",
    "        q = 1.0 - p           # risk neutral down probability   \n",
    "\n",
    "        if payoff ==\"call\":\n",
    "            V[:] = np.maximum(S_T-k[x], 0.0)\n",
    "        elif payoff ==\"put\":\n",
    "            V[:] = np.maximum(k[x]-S_T, 0.0)\n",
    "\n",
    "        for i in range(N-1, -1, -1):\n",
    "            V[:-1] = np.exp(-r*dT) * (p * V[1:] + q * V[:-1])    # the price vector is overwritten at each step\n",
    "            S_T = S_T * u                    # it is a tricky way to obtain the price at the previous time step\n",
    "            if payoff==\"call\":\n",
    "                V = np.maximum( V, S_T-k[x] )\n",
    "            elif payoff==\"put\":\n",
    "                V = np.maximum( V, k[x]-S_T )\n",
    "\n",
    "        prices.append(V[0])\n",
    "        \n",
    "    #Create dataframe of strikes and prices\n",
    "    z = {'Strike':k, 'Put Price':prices}\n",
    "    prices = pd.DataFrame(data=z)\n",
    "    return(prices)\n",
    "    print(prices)"
   ]
  },
  {
   "cell_type": "code",
   "execution_count": 16,
   "id": "2818d385",
   "metadata": {},
   "outputs": [
    {
     "name": "stdout",
     "output_type": "stream",
     "text": [
      "[*********************100%***********************]  1 of 1 completed\n",
      "[*********************100%***********************]  1 of 1 completed\n",
      "2021-12-23\n",
      "305.489990234375 [295, 300, 305, 310, 315, 320, 325, 330, 335, 340] 0.22428467183119555 0.00039999999105930326 0.10714285714285714\n"
     ]
    },
    {
     "data": {
      "text/html": [
       "<div>\n",
       "<style scoped>\n",
       "    .dataframe tbody tr th:only-of-type {\n",
       "        vertical-align: middle;\n",
       "    }\n",
       "\n",
       "    .dataframe tbody tr th {\n",
       "        vertical-align: top;\n",
       "    }\n",
       "\n",
       "    .dataframe thead th {\n",
       "        text-align: right;\n",
       "    }\n",
       "</style>\n",
       "<table border=\"1\" class=\"dataframe\">\n",
       "  <thead>\n",
       "    <tr style=\"text-align: right;\">\n",
       "      <th></th>\n",
       "      <th>Strike</th>\n",
       "      <th>Put Price</th>\n",
       "    </tr>\n",
       "  </thead>\n",
       "  <tbody>\n",
       "    <tr>\n",
       "      <th>0</th>\n",
       "      <td>295</td>\n",
       "      <td>4.519539</td>\n",
       "    </tr>\n",
       "    <tr>\n",
       "      <th>1</th>\n",
       "      <td>300</td>\n",
       "      <td>6.383793</td>\n",
       "    </tr>\n",
       "    <tr>\n",
       "      <th>2</th>\n",
       "      <td>305</td>\n",
       "      <td>8.689021</td>\n",
       "    </tr>\n",
       "    <tr>\n",
       "      <th>3</th>\n",
       "      <td>310</td>\n",
       "      <td>11.437842</td>\n",
       "    </tr>\n",
       "    <tr>\n",
       "      <th>4</th>\n",
       "      <td>315</td>\n",
       "      <td>14.611326</td>\n",
       "    </tr>\n",
       "    <tr>\n",
       "      <th>5</th>\n",
       "      <td>320</td>\n",
       "      <td>18.173042</td>\n",
       "    </tr>\n",
       "    <tr>\n",
       "      <th>6</th>\n",
       "      <td>325</td>\n",
       "      <td>22.073988</td>\n",
       "    </tr>\n",
       "    <tr>\n",
       "      <th>7</th>\n",
       "      <td>330</td>\n",
       "      <td>26.258758</td>\n",
       "    </tr>\n",
       "    <tr>\n",
       "      <th>8</th>\n",
       "      <td>335</td>\n",
       "      <td>30.671984</td>\n",
       "    </tr>\n",
       "    <tr>\n",
       "      <th>9</th>\n",
       "      <td>340</td>\n",
       "      <td>35.261784</td>\n",
       "    </tr>\n",
       "  </tbody>\n",
       "</table>\n",
       "</div>"
      ],
      "text/plain": [
       "   Strike  Put Price\n",
       "0     295   4.519539\n",
       "1     300   6.383793\n",
       "2     305   8.689021\n",
       "3     310  11.437842\n",
       "4     315  14.611326\n",
       "5     320  18.173042\n",
       "6     325  22.073988\n",
       "7     330  26.258758\n",
       "8     335  30.671984\n",
       "9     340  35.261784"
      ]
     },
     "execution_count": 16,
     "metadata": {},
     "output_type": "execute_result"
    }
   ],
   "source": [
    "abtp('CRM')"
   ]
  },
  {
   "cell_type": "code",
   "execution_count": 20,
   "id": "474b6aba",
   "metadata": {},
   "outputs": [
    {
     "name": "stdout",
     "output_type": "stream",
     "text": [
      "   Strike  Bloomberg Mid  Binomial Price\n",
      "0     295          8.025        4.519539\n",
      "1     300          9.925        6.383793\n",
      "2     305         12.250        8.689021\n",
      "3     310         15.075       11.437842\n",
      "4     315         18.100       14.611326\n",
      "5     320         21.325       18.173042\n",
      "6     325         24.950       22.073988\n",
      "7     330         28.800       26.258758\n",
      "8     335         32.925       30.671984\n",
      "9     340         37.400       35.261784\n"
     ]
    }
   ],
   "source": [
    "bid = [7.50, 9.65, 11.80, 14.60, 17.45, 20.75, 24.30, 28.20, 32.30, 36.65]\n",
    "ask = [8.55, 10.20, 12.70, 15.55, 18.75, 21.90, 25.60, 29.40, 33.55, 38.15]\n",
    "mid = []\n",
    "for x in range(0, len(bid)):\n",
    "    mid.append(round((ask[x] + bid[x])/2,3))\n",
    "k = [295, 300, 305, 310, 315, 320, 325, 330, 335, 340]\n",
    "tree_price = [4.519539, 6.383793, 8.689021, 11.437842, 14.611326, 18.173042, 22.073988, 26.258758, 30.671984, 35.261784]\n",
    "\n",
    "d = {'Strike': k, 'Bloomberg Mid': mid, 'Binomial Price': tree_price}\n",
    "df = pd.DataFrame(data = d)\n",
    "print(df)"
   ]
  },
  {
   "cell_type": "code",
   "execution_count": 25,
   "id": "7cfb1605",
   "metadata": {},
   "outputs": [
    {
     "data": {
      "text/plain": [
       "Text(0.5, 1.0, 'Put Prices')"
      ]
     },
     "execution_count": 25,
     "metadata": {},
     "output_type": "execute_result"
    },
    {
     "data": {
      "image/png": "[encoded data removed]",
      "text/plain": [
       "<Figure size 1008x504 with 1 Axes>"
      ]
     },
     "metadata": {
      "needs_background": "light"
     },
     "output_type": "display_data"
    }
   ],
   "source": [
    "fig, ax = plt.subplots(figsize=(14, 7))\n",
    "\n",
    "ax.set_xlabel('Strike')\n",
    "ax.set_ylabel('Put Price')\n",
    "ax.scatter(k, mid, color = 'red', label = 'Bloomberg')\n",
    "ax.scatter(k, tree_price, color = 'black', label = 'Tree')\n",
    "fig.autofmt_xdate()\n",
    "ax.legend()\n",
    "plt.title('Put Prices')"
   ]
  },
  {
   "cell_type": "code",
   "execution_count": 26,
   "id": "eddb181b",
   "metadata": {},
   "outputs": [
    {
     "name": "stdout",
     "output_type": "stream",
     "text": [
      "[3.505, 3.541, 3.561, 3.637, 3.489, 3.152, 2.876, 2.541, 2.253, 2.138]\n"
     ]
    }
   ],
   "source": [
    "diff = []\n",
    "for x in range(0, len(bid)):\n",
    "    diff.append(round((mid[x] - tree_price[x]),3))\n",
    "print(diff)"
   ]
  },
  {
   "cell_type": "code",
   "execution_count": 27,
   "id": "41a94227",
   "metadata": {},
   "outputs": [],
   "source": [
    "bid = [17.5, 14.80, 11.90, 9.80, 7.65, 6.05, 4.70, 3.75, 2.81, 2.26]\n",
    "ask = [18.95, 15.60, 12.95, 10.65, 8.65, 6.85, 5.55, 4.30, 3.55, 2.76]\n",
    "mid = []\n",
    "for x in range(0, len(bid)):\n",
    "    mid.append(round((ask[x] + bid[x])/2,3))\n",
    "k = [295, 300, 305, 310, 315, 320, 325, 330, 335, 340]\n",
    "tree_price = [15.02, 11.87, 9.19, 6.94, 5.11, 3.68, 2.58, 1.76, 1.17, 0.76]\n",
    "bs = [15.02, 11.89, 9.19, 6.94, 5.11, 3.68, 2.58, 1.76, 1.17, 0.76]"
   ]
  },
  {
   "cell_type": "code",
   "execution_count": 28,
   "id": "daaf43c5",
   "metadata": {},
   "outputs": [
    {
     "data": {
      "text/plain": [
       "Text(0.5, 1.0, 'Call Prices')"
      ]
     },
     "execution_count": 28,
     "metadata": {},
     "output_type": "execute_result"
    },
    {
     "data": {
      "image/png": "[encoded data removed]",
      "text/plain": [
       "<Figure size 1008x504 with 1 Axes>"
      ]
     },
     "metadata": {
      "needs_background": "light"
     },
     "output_type": "display_data"
    }
   ],
   "source": [
    "fig, ax = plt.subplots(figsize=(14, 7))\n",
    "\n",
    "ax.set_xlabel('Strike')\n",
    "ax.set_ylabel('Call Price')\n",
    "ax.scatter(k, mid, color = 'red', label = 'Bloomberg')\n",
    "ax.scatter(k, tree_price, color = 'black', label = 'Tree')\n",
    "ax.scatter(k, bs, color = 'blue', label = 'Black Scholes')\n",
    "fig.autofmt_xdate()\n",
    "ax.legend()\n",
    "plt.title('Call Prices')"
   ]
  },
  {
   "cell_type": "code",
   "execution_count": 30,
   "id": "489cd476",
   "metadata": {},
   "outputs": [
    {
     "name": "stdout",
     "output_type": "stream",
     "text": [
      "[*********************100%***********************]  1 of 1 completed\n",
      "0.23069327641619247\n"
     ]
    }
   ],
   "source": [
    "edate = datetime(2021, 11, 16)\n",
    "\n",
    "#Start date as 6 months ago from today\n",
    "sdate = edate + relativedelta(months=-3)\n",
    "\n",
    "#Change dates to strings\n",
    "sdate = datetime.strftime(sdate,\"%Y-%m-%d\")\n",
    "edate = datetime.strftime(edate,\"%Y-%m-%d\")\n",
    "\n",
    "#get historical data of stock\n",
    "df = yf.download('CRM', start = sdate, end = edate)\n",
    "    \n",
    "#Calculate Log Return for volatility\n",
    "log_returns = np.log(df['Close']/df['Close'].shift(1))\n",
    "    \n",
    "#Calculate volatility\n",
    "sigma = log_returns.std() * math.sqrt(252)#len(df['Close'])\n",
    "\n",
    "print(sigma)"
   ]
  },
  {
   "cell_type": "code",
   "execution_count": null,
   "id": "ced80e07",
   "metadata": {},
   "outputs": [],
   "source": []
  }
 ],
 "metadata": {
  "kernelspec": {
   "display_name": "Python 3 (ipykernel)",
   "language": "python",
   "name": "python3"
  },
  "language_info": {
   "codemirror_mode": {
    "name": "ipython",
    "version": 3
   },
   "file_extension": ".py",
   "mimetype": "text/x-python",
   "name": "python",
   "nbconvert_exporter": "python",
   "pygments_lexer": "ipython3",
   "version": "3.9.7"
  }
 },
 "nbformat": 4,
 "nbformat_minor": 5
}
