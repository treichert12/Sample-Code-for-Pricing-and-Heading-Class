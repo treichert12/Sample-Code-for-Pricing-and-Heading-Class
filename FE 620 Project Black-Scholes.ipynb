{
 "cells": [
  {
   "cell_type": "code",
   "execution_count": 1,
   "id": "86f33834",
   "metadata": {},
   "outputs": [],
   "source": [
    "import math\n",
    "import numpy as np\n",
    "from scipy.stats import norm\n",
    "import pandas as pd\n",
    "import yfinance as yf\n",
    "from datetime import datetime\n",
    "\n",
    "from dateutil.relativedelta import relativedelta"
   ]
  },
  {
   "cell_type": "code",
   "execution_count": 17,
   "id": "a9814fcc",
   "metadata": {},
   "outputs": [],
   "source": [
    "def bse(stock):\n",
    "    # Get end date as November 15, 2021\n",
    "    edate = datetime(2021, 11, 16)\n",
    "\n",
    "    #Start date as 6 months ago from today\n",
    "    sdate = edate + relativedelta(months=-6)\n",
    "\n",
    "    #Change dates to strings\n",
    "    sdate = datetime.strftime(sdate,\"%Y-%m-%d\")\n",
    "    edate = datetime.strftime(edate,\"%Y-%m-%d\")\n",
    "\n",
    "    #get historical data of stock\n",
    "    df = yf.download(stock, start = sdate, end = edate)\n",
    "    \n",
    "    #Calculate Log Return\n",
    "    log_returns = np.log(df['Close']/df['Close'].shift(1))\n",
    "    \n",
    "    #Calculate volatility\n",
    "    sigma = log_returns.std() * math.sqrt(252)#len(df['Close'])\n",
    "\n",
    "    #Find Risk-Free Rate 12 week t bill \n",
    "    r = yf.download('^IRX', start = edate, end = edate)\n",
    "    r = r['Close'][0]/100\n",
    "\n",
    "    #Find days until option maturity date\n",
    "    tick = yf.Ticker(stock)\n",
    "    print(tick.options[3])\n",
    "    #t = datetime.strptime(tick.options[3],\"%Y-%m-%d\") - datetime.strptime(edate,\"%Y-%m-%d\")\n",
    "    t = 27/252\n",
    "\n",
    "    #strikes\n",
    "    k = [295, 300, 305, 310, 315, 320, 325, 330, 335, 340]\n",
    "\n",
    "    #stock price\n",
    "    s = df['Close'][-1]\n",
    "\n",
    "    print(s,k,sigma,r,t)\n",
    "\n",
    "    #Black-Scholes Equation\n",
    "    prices = []\n",
    "    for x in range(0,len(k)):\n",
    "        d1 = (np.log(s/k[x])+(r+(sigma**2)/2)*t)/(sigma*np.sqrt(t))\n",
    "        \n",
    "        d2 = (np.log(s/k[x])+(r-(sigma**2)/2)*t)/(sigma*np.sqrt(t))\n",
    "        \n",
    "        call_price = s*norm.cdf(d1)-k[x]*np.exp(-r*t)*norm.cdf(d2)\n",
    "        prices.append(call_price)\n",
    "    \n",
    "    #Create dataframe of strikes and prices\n",
    "    z = {'Strike':k, 'Call Price':prices}\n",
    "    prices = pd.DataFrame(data=z)\n",
    "    print(prices)"
   ]
  },
  {
   "cell_type": "code",
   "execution_count": 18,
   "id": "21d9624d",
   "metadata": {},
   "outputs": [
    {
     "name": "stdout",
     "output_type": "stream",
     "text": [
      "[*********************100%***********************]  1 of 1 completed\n",
      "[*********************100%***********************]  1 of 1 completed\n",
      "2021-12-23\n",
      "305.489990234375 [295, 300, 305, 310, 315, 320, 325, 330, 335, 340] 0.22428467183119555 0.00039999999105930326 0.10714285714285714\n",
      "   Strike  Call Price\n",
      "0     295   15.021935\n",
      "1     300   11.886288\n",
      "2     305    9.191631\n",
      "3     310    6.940512\n",
      "4     315    5.114094\n",
      "5     320    3.675726\n",
      "6     325    2.576430\n",
      "7     330    1.761056\n",
      "8     335    1.173953\n",
      "9     340    0.763394\n"
     ]
    }
   ],
   "source": [
    "bse('CRM')"
   ]
  },
  {
   "cell_type": "code",
   "execution_count": null,
   "id": "19683af8",
   "metadata": {},
   "outputs": [],
   "source": []
  }
 ],
 "metadata": {
  "kernelspec": {
   "display_name": "Python 3 (ipykernel)",
   "language": "python",
   "name": "python3"
  },
  "language_info": {
   "codemirror_mode": {
    "name": "ipython",
    "version": 3
   },
   "file_extension": ".py",
   "mimetype": "text/x-python",
   "name": "python",
   "nbconvert_exporter": "python",
   "pygments_lexer": "ipython3",
   "version": "3.9.7"
  }
 },
 "nbformat": 4,
 "nbformat_minor": 5
}
